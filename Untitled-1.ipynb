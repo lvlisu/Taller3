{
 "cells": [
  {
   "cell_type": "code",
   "execution_count": null,
   "id": "791aea5c",
   "metadata": {},
   "outputs": [],
   "source": [
    "import wooldridge as wd\n"
   ]
  },
  {
   "cell_type": "code",
   "execution_count": null,
   "id": "9802e00b",
   "metadata": {},
   "outputs": [],
   "source": [
    "wase = wd.data(\"wage1\")\n"
   ]
  },
  {
   "cell_type": "code",
   "execution_count": null,
   "id": "8ee09148",
   "metadata": {},
   "outputs": [
    {
     "data": {
      "text/plain": [
       "<class 'pandas.core.frame.DataFrame'>\n",
       "RangeIndex: 526 entries, 0 to 525\n",
       "Data columns (total 24 columns):\n",
       " #   Column    Non-Null Count  Dtype  \n",
       "---  ------    --------------  -----  \n",
       " 0   wage      526 non-null    float64\n",
       " 1   educ      526 non-null    int64  \n",
       " 2   exper     526 non-null    int64  \n",
       " 3   tenure    526 non-null    int64  \n",
       " 4   nonwhite  526 non-null    int64  \n",
       " 5   female    526 non-null    int64  \n",
       " 6   married   526 non-null    int64  \n",
       " 7   numdep    526 non-null    int64  \n",
       " 8   smsa      526 non-null    int64  \n",
       " 9   northcen  526 non-null    int64  \n",
       " 10  south     526 non-null    int64  \n",
       " 11  west      526 non-null    int64  \n",
       " 12  construc  526 non-null    int64  \n",
       " 13  ndurman   526 non-null    int64  \n",
       " 14  trcommpu  526 non-null    int64  \n",
       " 15  trade     526 non-null    int64  \n",
       " 16  services  526 non-null    int64  \n",
       " 17  profserv  526 non-null    int64  \n",
       " 18  profocc   526 non-null    int64  \n",
       " 19  clerocc   526 non-null    int64  \n",
       " 20  servocc   526 non-null    int64  \n",
       " 21  lwage     526 non-null    float64\n",
       " 22  expersq   526 non-null    int64  \n",
       " 23  tenursq   526 non-null    int64  \n",
       "dtypes: float64(2), int64(22)\n",
       "memory usage: 98.8 KB\n"
      ]
     },
     "metadata": {},
     "output_type": "display_data"
    }
   ],
   "source": [
    "wase.info()\n"
   ]
  },
  {
   "cell_type": "code",
   "execution_count": null,
   "id": "b66773b3",
   "metadata": {},
   "outputs": [],
   "source": [
    "datos = wase[[\"wage\",\"educ\",\"exper\",\"female\"]]\n"
   ]
  },
  {
   "cell_type": "code",
   "execution_count": null,
   "id": "1496487f",
   "metadata": {},
   "outputs": [
    {
     "data": {
      "text/plain": [
       "      wage  educ  exper  female\n",
       "0     3.10    11      2       1\n",
       "1     3.24    12     22       1\n",
       "2     3.00    11      2       0\n",
       "3     6.00     8     44       0\n",
       "4     5.30    12      7       0\n",
       "..     ...   ...    ...     ...\n",
       "521  15.00    16     14       1\n",
       "522   2.27    10      2       1\n",
       "523   4.67    15     13       0\n",
       "524  11.56    16      5       0\n",
       "525   3.50    14      5       1\n",
       "\n",
       "[526 rows x 4 columns]\n"
      ]
     },
     "metadata": {},
     "output_type": "display_data"
    }
   ],
   "source": [
    "datos\n"
   ]
  },
  {
   "cell_type": "code",
   "execution_count": null,
   "id": "2d63e764",
   "metadata": {},
   "outputs": [],
   "source": [
    "datos[\"female\"]=datos[\"female\"].map({0: \"Hombre\", 1:\"Mujer\"})\n"
   ]
  },
  {
   "cell_type": "code",
   "execution_count": null,
   "id": "1a6b5a4d",
   "metadata": {},
   "outputs": [
    {
     "data": {
      "text/plain": [
       "      wage  educ  exper  female\n",
       "0     3.10    11      2   Mujer\n",
       "1     3.24    12     22   Mujer\n",
       "2     3.00    11      2  Hombre\n",
       "3     6.00     8     44  Hombre\n",
       "4     5.30    12      7  Hombre\n",
       "..     ...   ...    ...     ...\n",
       "521  15.00    16     14   Mujer\n",
       "522   2.27    10      2   Mujer\n",
       "523   4.67    15     13  Hombre\n",
       "524  11.56    16      5  Hombre\n",
       "525   3.50    14      5   Mujer\n",
       "\n",
       "[526 rows x 4 columns]\n"
      ]
     },
     "metadata": {},
     "output_type": "display_data"
    }
   ],
   "source": [
    "datos\n"
   ]
  },
  {
   "cell_type": "code",
   "execution_count": null,
   "id": "2b78953d",
   "metadata": {},
   "outputs": [
    {
     "data": {
      "text/plain": [
       "Traceback (most recent call last):\n",
       "  File \"/Users/lauralis/.vscode/extensions/ms-python.python-2025.4.0-darwin-x64/python_files/python_server.py\", line 133, in exec_user_input\n",
       "    retval = callable_(user_input, user_globals)\n",
       "  File \"<string>\", line 1, in <module>\n",
       "  File \"/Library/Frameworks/Python.framework/Versions/3.13/lib/python3.13/site-packages/pandas/util/_decorators.py\", line 333, in wrapper\n",
       "    return func(*args, **kwargs)\n",
       "  File \"/Library/Frameworks/Python.framework/Versions/3.13/lib/python3.13/site-packages/pandas/core/generic.py\", line 3967, in to_csv\n",
       "    return DataFrameRenderer(formatter).to_csv(\n",
       "           ~~~~~~~~~~~~~~~~~~~~~~~~~~~~~~~~~~~^\n",
       "        path_or_buf,\n",
       "        ^^^^^^^^^^^^\n",
       "    ...<14 lines>...\n",
       "        storage_options=storage_options,\n",
       "        ^^^^^^^^^^^^^^^^^^^^^^^^^^^^^^^^\n",
       "    )\n",
       "    ^\n",
       "  File \"/Library/Frameworks/Python.framework/Versions/3.13/lib/python3.13/site-packages/pandas/io/formats/format.py\", line 1014, in to_csv\n",
       "    csv_formatter.save()\n",
       "    ~~~~~~~~~~~~~~~~~~^^\n",
       "  File \"/Library/Frameworks/Python.framework/Versions/3.13/lib/python3.13/site-packages/pandas/io/formats/csvs.py\", line 251, in save\n",
       "    with get_handle(\n",
       "         ~~~~~~~~~~^\n",
       "        self.filepath_or_buffer,\n",
       "        ^^^^^^^^^^^^^^^^^^^^^^^^\n",
       "    ...<4 lines>...\n",
       "        storage_options=self.storage_options,\n",
       "        ^^^^^^^^^^^^^^^^^^^^^^^^^^^^^^^^^^^^^\n",
       "    ) as handles:\n",
       "    ^\n",
       "  File \"/Library/Frameworks/Python.framework/Versions/3.13/lib/python3.13/site-packages/pandas/io/common.py\", line 873, in get_handle\n",
       "    handle = open(\n",
       "        handle,\n",
       "    ...<3 lines>...\n",
       "        newline=\"\",\n",
       "    )\n",
       "OSError: [Errno 30] Read-only file system: 'wooldridge.csv'\n",
       "\n"
      ]
     },
     "metadata": {},
     "output_type": "display_data"
    }
   ],
   "source": [
    "datos.to_csv(\"wooldridge.csv\", index=False)\n"
   ]
  },
  {
   "cell_type": "code",
   "execution_count": null,
   "id": "d4007523",
   "metadata": {},
   "outputs": [
    {
     "data": {
      "text/plain": [
       "      wage  educ  exper  female\n",
       "0     3.10    11      2   Mujer\n",
       "1     3.24    12     22   Mujer\n",
       "2     3.00    11      2  Hombre\n",
       "3     6.00     8     44  Hombre\n",
       "4     5.30    12      7  Hombre\n",
       "..     ...   ...    ...     ...\n",
       "521  15.00    16     14   Mujer\n",
       "522   2.27    10      2   Mujer\n",
       "523   4.67    15     13  Hombre\n",
       "524  11.56    16      5  Hombre\n",
       "525   3.50    14      5   Mujer\n",
       "\n",
       "[526 rows x 4 columns]\n"
      ]
     },
     "metadata": {},
     "output_type": "display_data"
    }
   ],
   "source": [
    "datos\n"
   ]
  },
  {
   "cell_type": "code",
   "execution_count": null,
   "id": "d0e2affc",
   "metadata": {},
   "outputs": [
    {
     "data": {
      "text/plain": [
       "Traceback (most recent call last):\n",
       "  File \"/Users/lauralis/.vscode/extensions/ms-python.python-2025.4.0-darwin-x64/python_files/python_server.py\", line 133, in exec_user_input\n",
       "    retval = callable_(user_input, user_globals)\n",
       "  File \"<string>\", line 1, in <module>\n",
       "  File \"/Library/Frameworks/Python.framework/Versions/3.13/lib/python3.13/site-packages/pandas/util/_decorators.py\", line 333, in wrapper\n",
       "    return func(*args, **kwargs)\n",
       "  File \"/Library/Frameworks/Python.framework/Versions/3.13/lib/python3.13/site-packages/pandas/core/generic.py\", line 3967, in to_csv\n",
       "    return DataFrameRenderer(formatter).to_csv(\n",
       "           ~~~~~~~~~~~~~~~~~~~~~~~~~~~~~~~~~~~^\n",
       "        path_or_buf,\n",
       "        ^^^^^^^^^^^^\n",
       "    ...<14 lines>...\n",
       "        storage_options=storage_options,\n",
       "        ^^^^^^^^^^^^^^^^^^^^^^^^^^^^^^^^\n",
       "    )\n",
       "    ^\n",
       "  File \"/Library/Frameworks/Python.framework/Versions/3.13/lib/python3.13/site-packages/pandas/io/formats/format.py\", line 1014, in to_csv\n",
       "    csv_formatter.save()\n",
       "    ~~~~~~~~~~~~~~~~~~^^\n",
       "  File \"/Library/Frameworks/Python.framework/Versions/3.13/lib/python3.13/site-packages/pandas/io/formats/csvs.py\", line 251, in save\n",
       "    with get_handle(\n",
       "         ~~~~~~~~~~^\n",
       "        self.filepath_or_buffer,\n",
       "        ^^^^^^^^^^^^^^^^^^^^^^^^\n",
       "    ...<4 lines>...\n",
       "        storage_options=self.storage_options,\n",
       "        ^^^^^^^^^^^^^^^^^^^^^^^^^^^^^^^^^^^^^\n",
       "    ) as handles:\n",
       "    ^\n",
       "  File \"/Library/Frameworks/Python.framework/Versions/3.13/lib/python3.13/site-packages/pandas/io/common.py\", line 873, in get_handle\n",
       "    handle = open(\n",
       "        handle,\n",
       "    ...<3 lines>...\n",
       "        newline=\"\",\n",
       "    )\n",
       "OSError: [Errno 30] Read-only file system: 'wooldridge.csv'\n",
       "\n"
      ]
     },
     "metadata": {},
     "output_type": "display_data"
    }
   ],
   "source": [
    "datos.to_csv(\"wooldridge.csv\", index=False)\n"
   ]
  },
  {
   "cell_type": "code",
   "execution_count": null,
   "id": "f90bf085",
   "metadata": {},
   "outputs": [],
   "source": [
    "datos[\"female\"]=datos[\"female\"].rename(\"genero\")\n"
   ]
  },
  {
   "cell_type": "code",
   "execution_count": null,
   "id": "a335895a",
   "metadata": {},
   "outputs": [
    {
     "data": {
      "text/plain": [
       "      wage  educ  exper  female\n",
       "0     3.10    11      2   Mujer\n",
       "1     3.24    12     22   Mujer\n",
       "2     3.00    11      2  Hombre\n",
       "3     6.00     8     44  Hombre\n",
       "4     5.30    12      7  Hombre\n",
       "..     ...   ...    ...     ...\n",
       "521  15.00    16     14   Mujer\n",
       "522   2.27    10      2   Mujer\n",
       "523   4.67    15     13  Hombre\n",
       "524  11.56    16      5  Hombre\n",
       "525   3.50    14      5   Mujer\n",
       "\n",
       "[526 rows x 4 columns]\n"
      ]
     },
     "metadata": {},
     "output_type": "display_data"
    }
   ],
   "source": [
    "datos\n"
   ]
  },
  {
   "cell_type": "code",
   "execution_count": null,
   "id": "e954676a",
   "metadata": {},
   "outputs": [],
   "source": [
    "datos[\"female\"]=datos[\"female\"].rename({\"female\" :\"genero\"})\n"
   ]
  },
  {
   "cell_type": "code",
   "execution_count": null,
   "id": "e24e351c",
   "metadata": {},
   "outputs": [
    {
     "data": {
      "text/plain": [
       "      wage  educ  exper  female\n",
       "0     3.10    11      2   Mujer\n",
       "1     3.24    12     22   Mujer\n",
       "2     3.00    11      2  Hombre\n",
       "3     6.00     8     44  Hombre\n",
       "4     5.30    12      7  Hombre\n",
       "..     ...   ...    ...     ...\n",
       "521  15.00    16     14   Mujer\n",
       "522   2.27    10      2   Mujer\n",
       "523   4.67    15     13  Hombre\n",
       "524  11.56    16      5  Hombre\n",
       "525   3.50    14      5   Mujer\n",
       "\n",
       "[526 rows x 4 columns]\n"
      ]
     },
     "metadata": {},
     "output_type": "display_data"
    }
   ],
   "source": [
    "datos\n"
   ]
  },
  {
   "cell_type": "code",
   "execution_count": null,
   "id": "cfc68ac0",
   "metadata": {},
   "outputs": [],
   "source": [
    "datos = datos.rename(columns={\"female\":\"genero\"})\n"
   ]
  },
  {
   "cell_type": "code",
   "execution_count": null,
   "id": "1c76fa96",
   "metadata": {},
   "outputs": [
    {
     "data": {
      "text/plain": [
       "      wage  educ  exper  genero\n",
       "0     3.10    11      2   Mujer\n",
       "1     3.24    12     22   Mujer\n",
       "2     3.00    11      2  Hombre\n",
       "3     6.00     8     44  Hombre\n",
       "4     5.30    12      7  Hombre\n",
       "..     ...   ...    ...     ...\n",
       "521  15.00    16     14   Mujer\n",
       "522   2.27    10      2   Mujer\n",
       "523   4.67    15     13  Hombre\n",
       "524  11.56    16      5  Hombre\n",
       "525   3.50    14      5   Mujer\n",
       "\n",
       "[526 rows x 4 columns]\n"
      ]
     },
     "metadata": {},
     "output_type": "display_data"
    }
   ],
   "source": [
    "datos\n"
   ]
  },
  {
   "cell_type": "code",
   "execution_count": null,
   "id": "61042a57",
   "metadata": {},
   "outputs": [
    {
     "data": {
      "text/plain": [
       "      wage  educ  exper  genero\n",
       "0     3.10    11      2   Mujer\n",
       "1     3.24    12     22   Mujer\n",
       "2     3.00    11      2  Hombre\n",
       "3     6.00     8     44  Hombre\n",
       "4     5.30    12      7  Hombre\n",
       "..     ...   ...    ...     ...\n",
       "521  15.00    16     14   Mujer\n",
       "522   2.27    10      2   Mujer\n",
       "523   4.67    15     13  Hombre\n",
       "524  11.56    16      5  Hombre\n",
       "525   3.50    14      5   Mujer\n",
       "\n",
       "[526 rows x 4 columns]\n"
      ]
     },
     "metadata": {},
     "output_type": "display_data"
    }
   ],
   "source": [
    "datos\n"
   ]
  },
  {
   "cell_type": "code",
   "execution_count": null,
   "id": "79b3d5cd",
   "metadata": {},
   "outputs": [
    {
     "data": {
      "text/plain": [
       "Traceback (most recent call last):\n",
       "  File \"/Users/lauralis/.vscode/extensions/ms-python.python-2025.4.0-darwin-x64/python_files/python_server.py\", line 133, in exec_user_input\n",
       "    retval = callable_(user_input, user_globals)\n",
       "  File \"<string>\", line 1, in <module>\n",
       "  File \"/Library/Frameworks/Python.framework/Versions/3.13/lib/python3.13/site-packages/pandas/util/_decorators.py\", line 333, in wrapper\n",
       "    return func(*args, **kwargs)\n",
       "  File \"/Library/Frameworks/Python.framework/Versions/3.13/lib/python3.13/site-packages/pandas/core/generic.py\", line 3967, in to_csv\n",
       "    return DataFrameRenderer(formatter).to_csv(\n",
       "           ~~~~~~~~~~~~~~~~~~~~~~~~~~~~~~~~~~~^\n",
       "        path_or_buf,\n",
       "        ^^^^^^^^^^^^\n",
       "    ...<14 lines>...\n",
       "        storage_options=storage_options,\n",
       "        ^^^^^^^^^^^^^^^^^^^^^^^^^^^^^^^^\n",
       "    )\n",
       "    ^\n",
       "  File \"/Library/Frameworks/Python.framework/Versions/3.13/lib/python3.13/site-packages/pandas/io/formats/format.py\", line 1014, in to_csv\n",
       "    csv_formatter.save()\n",
       "    ~~~~~~~~~~~~~~~~~~^^\n",
       "  File \"/Library/Frameworks/Python.framework/Versions/3.13/lib/python3.13/site-packages/pandas/io/formats/csvs.py\", line 251, in save\n",
       "    with get_handle(\n",
       "         ~~~~~~~~~~^\n",
       "        self.filepath_or_buffer,\n",
       "        ^^^^^^^^^^^^^^^^^^^^^^^^\n",
       "    ...<4 lines>...\n",
       "        storage_options=self.storage_options,\n",
       "        ^^^^^^^^^^^^^^^^^^^^^^^^^^^^^^^^^^^^^\n",
       "    ) as handles:\n",
       "    ^\n",
       "  File \"/Library/Frameworks/Python.framework/Versions/3.13/lib/python3.13/site-packages/pandas/io/common.py\", line 873, in get_handle\n",
       "    handle = open(\n",
       "        handle,\n",
       "    ...<3 lines>...\n",
       "        newline=\"\",\n",
       "    )\n",
       "OSError: [Errno 30] Read-only file system: 'wooldridge.csv'\n",
       "\n"
      ]
     },
     "metadata": {},
     "output_type": "display_data"
    }
   ],
   "source": [
    "datos.to_csv(\"wooldridge.csv\", index=False)\n"
   ]
  },
  {
   "cell_type": "code",
   "execution_count": null,
   "id": "54d83d81",
   "metadata": {},
   "outputs": [],
   "source": []
  }
 ],
 "metadata": {
  "language_info": {
   "name": "python"
  }
 },
 "nbformat": 4,
 "nbformat_minor": 5
}
